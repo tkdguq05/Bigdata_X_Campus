{
 "cells": [
  {
   "cell_type": "markdown",
   "metadata": {},
   "source": [
    "# Korea University Day3 "
   ]
  },
  {
   "cell_type": "markdown",
   "metadata": {},
   "source": [
    "## Git"
   ]
  },
  {
   "cell_type": "markdown",
   "metadata": {},
   "source": [
    "* 형상관리 도구 중 버전관리 도구,  \n",
    "SI, 코드뿐만아니라 고객의 요청에 대해서 처리하는 사람, 실제 구현 하는 사람, 테스트 하는 사람, 피드백 주는 사람  \n",
    "여러 사람과 협업할때, 코드 전달, 작업하고 있는 코드가 일치하고 있는가"
   ]
  },
  {
   "cell_type": "markdown",
   "metadata": {},
   "source": [
    "* 로컬 버전관리, 내 파일의 과거 버전 관리를 하고 싶을때, (옛날 진행상태로 바꾸고 싶을때)\n",
    "* 중앙집중식 버전관리, 서버가 일하고 클라이언트에 보낸다. 중앙서버에 접속해서 파일을 받고 수정 후 다시 중앙서버로 돌려줌, 충돌은 중앙서버에서 관리\n",
    "    - 중앙서버가 죽으면? 파일까지 날아간다면?, 복원이 안됨, 협업이 안됨\n",
    "* 분산 버전 관리 시스템, 서버컴퓨터가 존재하고 파일을 관리, 중앙집중식과 다른점은 서버도 기록을 갖고 사용자도 변경기록을 갖고 있음\n",
    "    - 서버가 죽으면, 로컬에서 갖고와서 복원하거나 자체를 새로운 서버로 만들어서 작업을 가능하게 만듬\n"
   ]
  },
  {
   "cell_type": "markdown",
   "metadata": {},
   "source": [
    "init: 이 폴더를 깃으로 관리하겠다 선언    \n",
    "untracked file: 깃으로 관리되어지고 있지 않은 파일  \n",
    "commit 후 메세지 남겨주기  \n",
    "modified: 파일이 변경됨  \n",
    "git diff: 변경된 내용이 초록색으로 표현됨  \n",
    "stage 단계 생략 가능함, 바로 저장할 수도 있음\n",
    "git commit -a: add 없이 한번에, 작업하겠다고 선언한 애만 보냄\n",
    "git commit -m \"~\" :메시지 보내고 바로  \n",
    "git reset: 한단계 전으로 돌리기, commit이름을 붙이면 이 상태로  \n",
    "git reset --hard: 파일까지 초기화 시켜버림, 작업했던 파일까지 건드림, work 디렉토리건드리기  \n",
    "git reset --soft: commit부분 초기화, = 메세지 내역을 없애는 것 --HEAD : 마지막 변경사항으로\n",
    "git reset --mixed: stage로 돌아가기, 제출해던 변경사항을 되돌리기  \n",
    "git commit --amend :마지막 메세지 새롭게 수정  \n",
    "reset 로그 자체가 사라져버리기 때문에 과거에서 현재로 갈 수 없는 상태\n",
    "\n",
    "---"
   ]
  },
  {
   "cell_type": "markdown",
   "metadata": {},
   "source": [
    "commit을 해야 저장이 된 것이라고 할 수 있음\n",
    "git diff는 modified단계를 보는 것이고, stage로 넘어가면 확인 불가  \n",
    "stage에서 확인하려면 git diff--staged  \n",
    "git ignore :git에서 관리하지 않아도 되는 파일 지정하기  \n",
    "git show : 특정 로그, 어떤 변경사항 있었는지 확인 가능 commit 일부분 짤라도 따라갈 수 있음  \n",
    "git remote add origin 주소: 해서 repo 올리기\n",
    "\n",
    "git config --global user.name=\"tkdguq05\"으로 등록  \n",
    "--global: 계정에 대한 옵션  \n",
    "--system: 다른계정 로그인 했을때도 적용  \n",
    "--local: 디렉토리 내에서만 적용 \n",
    "\n",
    "git checkout : branch 변경  \n",
    "다른 브랜치에서 작업하다가 git merge 브랜치명: master merge\n",
    "\n",
    "\n"
   ]
  }
 ],
 "metadata": {
  "kernelspec": {
   "display_name": "Python 3",
   "language": "python",
   "name": "python3"
  },
  "language_info": {
   "codemirror_mode": {
    "name": "ipython",
    "version": 3
   },
   "file_extension": ".py",
   "mimetype": "text/x-python",
   "name": "python",
   "nbconvert_exporter": "python",
   "pygments_lexer": "ipython3",
   "version": "3.6.3"
  }
 },
 "nbformat": 4,
 "nbformat_minor": 2
}
