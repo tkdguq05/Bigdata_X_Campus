{
 "cells": [
  {
   "cell_type": "markdown",
   "metadata": {},
   "source": [
    "# Korea University"
   ]
  },
  {
   "cell_type": "code",
   "execution_count": 8,
   "metadata": {},
   "outputs": [],
   "source": [
    "from sqlalchemy import create_engine"
   ]
  },
  {
   "cell_type": "code",
   "execution_count": 9,
   "metadata": {},
   "outputs": [],
   "source": [
    "engine = create_engine('sqlite://', echo=True)"
   ]
  },
  {
   "cell_type": "code",
   "execution_count": 22,
   "metadata": {},
   "outputs": [],
   "source": [
    "metadata = MetaData(engine)"
   ]
  },
  {
   "cell_type": "code",
   "execution_count": 10,
   "metadata": {},
   "outputs": [],
   "source": [
    "from sqlalchemy.ext.declarative import declarative_base"
   ]
  },
  {
   "cell_type": "code",
   "execution_count": 11,
   "metadata": {},
   "outputs": [],
   "source": [
    "Base = declarative_base() #base 상속받아서 클래스 만들기"
   ]
  },
  {
   "cell_type": "code",
   "execution_count": 21,
   "metadata": {},
   "outputs": [],
   "source": [
    "from sqlalchemy import Column, Integer, String, ForeignKey, MetaData"
   ]
  },
  {
   "cell_type": "code",
   "execution_count": 13,
   "metadata": {},
   "outputs": [],
   "source": [
    "class Artist(Base):\n",
    "    __tablename__ = 'artist'\n",
    "    \n",
    "    id = Column(Integer, primary_key=True)\n",
    "    name = Column(String)\n",
    "    \n",
    "    def __repr__(self):\n",
    "        return \"<T'artist(name='%s')>\" % (self.name)\n",
    "    \n",
    "    \n",
    "class Album(Base):\n",
    "    __tablename__ = 'album'\n",
    "    \n",
    "    id = Column(Integer, primary_key=True)\n",
    "    title = Column(String)   \n",
    "    artist_id = Column(Integer, ForeignKey('artist.id'))\n",
    "    \n",
    "class Genre(Base):\n",
    "    __tablename__ = 'genre'\n",
    "    \n",
    "    id = Column(Integer, primary_key=True)\n",
    "    name = Column(String)\n",
    "\n",
    "class Track(Base):\n",
    "    __tablename__ = 'track'\n",
    "    \n",
    "    id = Column(Integer, primary_key=True)\n",
    "    title = Column(String)\n",
    "    album_id = Column(Integer, ForeignKey('album.id'))\n",
    "    genre_id = Column(Integer, ForeignKey('genre.id'))"
   ]
  },
  {
   "cell_type": "code",
   "execution_count": 24,
   "metadata": {},
   "outputs": [
    {
     "name": "stdout",
     "output_type": "stream",
     "text": [
      "2018-07-10 17:51:10,890 INFO sqlalchemy.engine.base.Engine PRAGMA table_info(\"artist\")\n",
      "2018-07-10 17:51:10,892 INFO sqlalchemy.engine.base.Engine ()\n",
      "2018-07-10 17:51:10,894 INFO sqlalchemy.engine.base.Engine PRAGMA table_info(\"album\")\n",
      "2018-07-10 17:51:10,896 INFO sqlalchemy.engine.base.Engine ()\n",
      "2018-07-10 17:51:10,898 INFO sqlalchemy.engine.base.Engine PRAGMA table_info(\"genre\")\n",
      "2018-07-10 17:51:10,900 INFO sqlalchemy.engine.base.Engine ()\n",
      "2018-07-10 17:51:10,902 INFO sqlalchemy.engine.base.Engine PRAGMA table_info(\"track\")\n",
      "2018-07-10 17:51:10,905 INFO sqlalchemy.engine.base.Engine ()\n",
      "2018-07-10 17:51:10,907 INFO sqlalchemy.engine.base.Engine \n",
      "CREATE TABLE artist (\n",
      "\tid INTEGER NOT NULL, \n",
      "\tname VARCHAR, \n",
      "\tPRIMARY KEY (id)\n",
      ")\n",
      "\n",
      "\n",
      "2018-07-10 17:51:10,909 INFO sqlalchemy.engine.base.Engine ()\n",
      "2018-07-10 17:51:10,912 INFO sqlalchemy.engine.base.Engine COMMIT\n",
      "2018-07-10 17:51:10,914 INFO sqlalchemy.engine.base.Engine \n",
      "CREATE TABLE genre (\n",
      "\tid INTEGER NOT NULL, \n",
      "\tname VARCHAR, \n",
      "\tPRIMARY KEY (id)\n",
      ")\n",
      "\n",
      "\n",
      "2018-07-10 17:51:10,916 INFO sqlalchemy.engine.base.Engine ()\n",
      "2018-07-10 17:51:10,917 INFO sqlalchemy.engine.base.Engine COMMIT\n",
      "2018-07-10 17:51:10,919 INFO sqlalchemy.engine.base.Engine \n",
      "CREATE TABLE album (\n",
      "\tid INTEGER NOT NULL, \n",
      "\ttitle VARCHAR, \n",
      "\tartist_id INTEGER, \n",
      "\tPRIMARY KEY (id), \n",
      "\tFOREIGN KEY(artist_id) REFERENCES artist (id)\n",
      ")\n",
      "\n",
      "\n",
      "2018-07-10 17:51:10,921 INFO sqlalchemy.engine.base.Engine ()\n",
      "2018-07-10 17:51:10,923 INFO sqlalchemy.engine.base.Engine COMMIT\n",
      "2018-07-10 17:51:10,925 INFO sqlalchemy.engine.base.Engine \n",
      "CREATE TABLE track (\n",
      "\tid INTEGER NOT NULL, \n",
      "\ttitle VARCHAR, \n",
      "\talbum_id INTEGER, \n",
      "\tgenre_id INTEGER, \n",
      "\tPRIMARY KEY (id), \n",
      "\tFOREIGN KEY(album_id) REFERENCES album (id), \n",
      "\tFOREIGN KEY(genre_id) REFERENCES genre (id)\n",
      ")\n",
      "\n",
      "\n",
      "2018-07-10 17:51:10,926 INFO sqlalchemy.engine.base.Engine ()\n",
      "2018-07-10 17:51:10,928 INFO sqlalchemy.engine.base.Engine COMMIT\n"
     ]
    }
   ],
   "source": [
    "Base.metadata.create_all(engine)"
   ]
  },
  {
   "cell_type": "code",
   "execution_count": 25,
   "metadata": {},
   "outputs": [],
   "source": [
    "artist1 = Artist(name='Led Zepplin')\n",
    "artist2 = Artist(name='AC/DC')"
   ]
  },
  {
   "cell_type": "code",
   "execution_count": 26,
   "metadata": {},
   "outputs": [
    {
     "data": {
      "text/plain": [
       "<T'artist(name='Led Zepplin')>"
      ]
     },
     "execution_count": 26,
     "metadata": {},
     "output_type": "execute_result"
    }
   ],
   "source": [
    "artist1"
   ]
  },
  {
   "cell_type": "code",
   "execution_count": 27,
   "metadata": {},
   "outputs": [],
   "source": [
    "from sqlalchemy.orm import sessionmaker"
   ]
  },
  {
   "cell_type": "code",
   "execution_count": 28,
   "metadata": {},
   "outputs": [],
   "source": [
    "Session = sessionmaker(bind=engine)"
   ]
  },
  {
   "cell_type": "code",
   "execution_count": 29,
   "metadata": {},
   "outputs": [],
   "source": [
    "session = Session()"
   ]
  },
  {
   "cell_type": "code",
   "execution_count": 30,
   "metadata": {},
   "outputs": [],
   "source": [
    "session.add_all([artist1, artist2])"
   ]
  },
  {
   "cell_type": "code",
   "execution_count": 31,
   "metadata": {},
   "outputs": [
    {
     "name": "stdout",
     "output_type": "stream",
     "text": [
      "2018-07-10 17:51:18,182 INFO sqlalchemy.engine.base.Engine BEGIN (implicit)\n",
      "2018-07-10 17:51:18,184 INFO sqlalchemy.engine.base.Engine INSERT INTO artist (name) VALUES (?)\n",
      "2018-07-10 17:51:18,186 INFO sqlalchemy.engine.base.Engine ('Led Zepplin',)\n",
      "2018-07-10 17:51:18,188 INFO sqlalchemy.engine.base.Engine INSERT INTO artist (name) VALUES (?)\n",
      "2018-07-10 17:51:18,190 INFO sqlalchemy.engine.base.Engine ('AC/DC',)\n",
      "2018-07-10 17:51:18,193 INFO sqlalchemy.engine.base.Engine COMMIT\n"
     ]
    }
   ],
   "source": [
    "session.commit()"
   ]
  },
  {
   "cell_type": "code",
   "execution_count": 32,
   "metadata": {},
   "outputs": [
    {
     "data": {
      "text/plain": [
       "IdentitySet([])"
      ]
     },
     "execution_count": 32,
     "metadata": {},
     "output_type": "execute_result"
    }
   ],
   "source": [
    "#인스턴스 값들이 변하는지 감시, 바뀌면 commit\n",
    "session.dirty"
   ]
  },
  {
   "cell_type": "code",
   "execution_count": 33,
   "metadata": {},
   "outputs": [
    {
     "data": {
      "text/plain": [
       "IdentitySet([])"
      ]
     },
     "execution_count": 33,
     "metadata": {},
     "output_type": "execute_result"
    }
   ],
   "source": [
    "#새로 넣어야 할 것들\n",
    "session.new"
   ]
  },
  {
   "cell_type": "code",
   "execution_count": 34,
   "metadata": {},
   "outputs": [],
   "source": [
    "artist1.name = 'xyz'"
   ]
  },
  {
   "cell_type": "code",
   "execution_count": 35,
   "metadata": {},
   "outputs": [
    {
     "data": {
      "text/plain": [
       "IdentitySet([<T'artist(name='xyz')>])"
      ]
     },
     "execution_count": 35,
     "metadata": {},
     "output_type": "execute_result"
    }
   ],
   "source": [
    "session.dirty"
   ]
  },
  {
   "cell_type": "code",
   "execution_count": 36,
   "metadata": {},
   "outputs": [],
   "source": [
    "session.add_all([\n",
    "    Album(title='1',artist_id=1),\n",
    "    Album(title='2',artist_id=2),\n",
    "])"
   ]
  },
  {
   "cell_type": "code",
   "execution_count": 37,
   "metadata": {},
   "outputs": [],
   "source": [
    "session.add_all([\n",
    "    Genre(name='Rock'),\n",
    "    Genre(name='Metal'),\n",
    "])"
   ]
  },
  {
   "cell_type": "code",
   "execution_count": 39,
   "metadata": {},
   "outputs": [],
   "source": [
    "session.add_all([\n",
    "    Track(title='1-1', album_id=1, genre_id = 1),\n",
    "    Track(title='1-2', album_id=1, genre_id = 2),\n",
    "    Track(title='2-1', album_id=1, genre_id = 1),\n",
    "    Track(title='2-2', album_id=1, genre_id = 2),\n",
    "])"
   ]
  },
  {
   "cell_type": "code",
   "execution_count": 40,
   "metadata": {},
   "outputs": [],
   "source": [
    "temp = Track(title='3-1', album_id=3, genre_id=3)"
   ]
  },
  {
   "cell_type": "code",
   "execution_count": 41,
   "metadata": {},
   "outputs": [],
   "source": [
    "session.add(temp)"
   ]
  },
  {
   "cell_type": "code",
   "execution_count": 42,
   "metadata": {},
   "outputs": [
    {
     "name": "stdout",
     "output_type": "stream",
     "text": [
      "2018-07-10 17:52:04,697 INFO sqlalchemy.engine.base.Engine BEGIN (implicit)\n",
      "2018-07-10 17:52:04,700 INFO sqlalchemy.engine.base.Engine INSERT INTO genre (name) VALUES (?)\n",
      "2018-07-10 17:52:04,701 INFO sqlalchemy.engine.base.Engine ('Rock',)\n",
      "2018-07-10 17:52:04,703 INFO sqlalchemy.engine.base.Engine INSERT INTO genre (name) VALUES (?)\n",
      "2018-07-10 17:52:04,705 INFO sqlalchemy.engine.base.Engine ('Metal',)\n",
      "2018-07-10 17:52:04,708 INFO sqlalchemy.engine.base.Engine SELECT artist.id AS artist_id \n",
      "FROM artist \n",
      "WHERE artist.id = ?\n",
      "2018-07-10 17:52:04,710 INFO sqlalchemy.engine.base.Engine (1,)\n",
      "2018-07-10 17:52:04,712 INFO sqlalchemy.engine.base.Engine UPDATE artist SET name=? WHERE artist.id = ?\n",
      "2018-07-10 17:52:04,713 INFO sqlalchemy.engine.base.Engine ('xyz', 1)\n",
      "2018-07-10 17:52:04,716 INFO sqlalchemy.engine.base.Engine INSERT INTO album (title, artist_id) VALUES (?, ?)\n",
      "2018-07-10 17:52:04,717 INFO sqlalchemy.engine.base.Engine ('1', 1)\n",
      "2018-07-10 17:52:04,718 INFO sqlalchemy.engine.base.Engine INSERT INTO album (title, artist_id) VALUES (?, ?)\n",
      "2018-07-10 17:52:04,720 INFO sqlalchemy.engine.base.Engine ('2', 2)\n",
      "2018-07-10 17:52:04,722 INFO sqlalchemy.engine.base.Engine INSERT INTO track (title, album_id, genre_id) VALUES (?, ?, ?)\n",
      "2018-07-10 17:52:04,723 INFO sqlalchemy.engine.base.Engine ('1-1', 1, 1)\n",
      "2018-07-10 17:52:04,724 INFO sqlalchemy.engine.base.Engine INSERT INTO track (title, album_id, genre_id) VALUES (?, ?, ?)\n",
      "2018-07-10 17:52:04,726 INFO sqlalchemy.engine.base.Engine ('1-2', 1, 2)\n",
      "2018-07-10 17:52:04,728 INFO sqlalchemy.engine.base.Engine INSERT INTO track (title, album_id, genre_id) VALUES (?, ?, ?)\n",
      "2018-07-10 17:52:04,729 INFO sqlalchemy.engine.base.Engine ('2-1', 1, 1)\n",
      "2018-07-10 17:52:04,731 INFO sqlalchemy.engine.base.Engine INSERT INTO track (title, album_id, genre_id) VALUES (?, ?, ?)\n",
      "2018-07-10 17:52:04,733 INFO sqlalchemy.engine.base.Engine ('2-2', 1, 2)\n",
      "2018-07-10 17:52:04,735 INFO sqlalchemy.engine.base.Engine INSERT INTO track (title, album_id, genre_id) VALUES (?, ?, ?)\n",
      "2018-07-10 17:52:04,739 INFO sqlalchemy.engine.base.Engine ('3-1', 3, 3)\n",
      "2018-07-10 17:52:04,744 INFO sqlalchemy.engine.base.Engine SELECT artist.id AS artist_id, artist.name AS artist_name \n",
      "FROM artist \n",
      "WHERE artist.id = ?\n",
      "2018-07-10 17:52:04,746 INFO sqlalchemy.engine.base.Engine (1,)\n",
      "<T'artist(name='xyz')>\n"
     ]
    }
   ],
   "source": [
    "for row in session.query(Artist).filter(Artist.id==1):\n",
    "    print(row)"
   ]
  },
  {
   "cell_type": "code",
   "execution_count": null,
   "metadata": {},
   "outputs": [],
   "source": []
  }
 ],
 "metadata": {
  "kernelspec": {
   "display_name": "Python 3",
   "language": "python",
   "name": "python3"
  },
  "language_info": {
   "codemirror_mode": {
    "name": "ipython",
    "version": 3
   },
   "file_extension": ".py",
   "mimetype": "text/x-python",
   "name": "python",
   "nbconvert_exporter": "python",
   "pygments_lexer": "ipython3",
   "version": "3.6.3"
  }
 },
 "nbformat": 4,
 "nbformat_minor": 2
}
