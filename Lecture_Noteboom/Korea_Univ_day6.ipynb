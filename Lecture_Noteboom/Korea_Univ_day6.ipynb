{
 "cells": [
  {
   "cell_type": "markdown",
   "metadata": {},
   "source": [
    "# Korea University"
   ]
  },
  {
   "cell_type": "markdown",
   "metadata": {},
   "source": [
    "## Data Base\n",
    "\n",
    "#### 데이터\n",
    "\n",
    "정형 비정형 반정형데이터  \n",
    "우리가 이번주에 배울 것은 정형데이터  \n",
    "ORM: Object(클래스)와 데이터베이스를 연결하는 기술"
   ]
  },
  {
   "cell_type": "markdown",
   "metadata": {},
   "source": [
    "데이터로부터 가치창출 하는 것이 우리의 목표, 어떻게 잘 쓸 수 있을까?"
   ]
  },
  {
   "cell_type": "code",
   "execution_count": 36,
   "metadata": {},
   "outputs": [],
   "source": [
    "import sqlite3"
   ]
  },
  {
   "cell_type": "code",
   "execution_count": 37,
   "metadata": {
    "scrolled": true
   },
   "outputs": [
    {
     "data": {
      "text/plain": [
       "['Binary',\n",
       " 'Cache',\n",
       " 'Connection',\n",
       " 'Cursor',\n",
       " 'DataError',\n",
       " 'DatabaseError',\n",
       " 'Date',\n",
       " 'DateFromTicks',\n",
       " 'Error',\n",
       " 'IntegrityError',\n",
       " 'InterfaceError',\n",
       " 'InternalError',\n",
       " 'NotSupportedError',\n",
       " 'OperationalError',\n",
       " 'OptimizedUnicode',\n",
       " 'PARSE_COLNAMES',\n",
       " 'PARSE_DECLTYPES',\n",
       " 'PrepareProtocol',\n",
       " 'ProgrammingError',\n",
       " 'Row',\n",
       " 'SQLITE_ALTER_TABLE',\n",
       " 'SQLITE_ANALYZE',\n",
       " 'SQLITE_ATTACH',\n",
       " 'SQLITE_CREATE_INDEX',\n",
       " 'SQLITE_CREATE_TABLE',\n",
       " 'SQLITE_CREATE_TEMP_INDEX',\n",
       " 'SQLITE_CREATE_TEMP_TABLE',\n",
       " 'SQLITE_CREATE_TEMP_TRIGGER',\n",
       " 'SQLITE_CREATE_TEMP_VIEW',\n",
       " 'SQLITE_CREATE_TRIGGER',\n",
       " 'SQLITE_CREATE_VIEW',\n",
       " 'SQLITE_DELETE',\n",
       " 'SQLITE_DENY',\n",
       " 'SQLITE_DETACH',\n",
       " 'SQLITE_DROP_INDEX',\n",
       " 'SQLITE_DROP_TABLE',\n",
       " 'SQLITE_DROP_TEMP_INDEX',\n",
       " 'SQLITE_DROP_TEMP_TABLE',\n",
       " 'SQLITE_DROP_TEMP_TRIGGER',\n",
       " 'SQLITE_DROP_TEMP_VIEW',\n",
       " 'SQLITE_DROP_TRIGGER',\n",
       " 'SQLITE_DROP_VIEW',\n",
       " 'SQLITE_IGNORE',\n",
       " 'SQLITE_INSERT',\n",
       " 'SQLITE_OK',\n",
       " 'SQLITE_PRAGMA',\n",
       " 'SQLITE_READ',\n",
       " 'SQLITE_REINDEX',\n",
       " 'SQLITE_SELECT',\n",
       " 'SQLITE_TRANSACTION',\n",
       " 'SQLITE_UPDATE',\n",
       " 'Statement',\n",
       " 'Time',\n",
       " 'TimeFromTicks',\n",
       " 'Timestamp',\n",
       " 'TimestampFromTicks',\n",
       " 'Warning',\n",
       " '__builtins__',\n",
       " '__cached__',\n",
       " '__doc__',\n",
       " '__file__',\n",
       " '__loader__',\n",
       " '__name__',\n",
       " '__package__',\n",
       " '__path__',\n",
       " '__spec__',\n",
       " 'adapt',\n",
       " 'adapters',\n",
       " 'apilevel',\n",
       " 'collections',\n",
       " 'complete_statement',\n",
       " 'connect',\n",
       " 'converters',\n",
       " 'datetime',\n",
       " 'dbapi2',\n",
       " 'enable_callback_tracebacks',\n",
       " 'enable_shared_cache',\n",
       " 'paramstyle',\n",
       " 'register_adapter',\n",
       " 'register_converter',\n",
       " 'sqlite_version',\n",
       " 'sqlite_version_info',\n",
       " 'threadsafety',\n",
       " 'time',\n",
       " 'version',\n",
       " 'version_info']"
      ]
     },
     "execution_count": 37,
     "metadata": {},
     "output_type": "execute_result"
    }
   ],
   "source": [
    "dir(sqlite3)"
   ]
  },
  {
   "cell_type": "code",
   "execution_count": 38,
   "metadata": {},
   "outputs": [
    {
     "data": {
      "text/plain": [
       "'2.6.0'"
      ]
     },
     "execution_count": 38,
     "metadata": {},
     "output_type": "execute_result"
    }
   ],
   "source": [
    "sqlite3.version"
   ]
  },
  {
   "cell_type": "code",
   "execution_count": 39,
   "metadata": {},
   "outputs": [
    {
     "data": {
      "text/plain": [
       "(2, 6, 0)"
      ]
     },
     "execution_count": 39,
     "metadata": {},
     "output_type": "execute_result"
    }
   ],
   "source": [
    "sqlite3.version_info"
   ]
  },
  {
   "cell_type": "code",
   "execution_count": 40,
   "metadata": {},
   "outputs": [
    {
     "data": {
      "text/plain": [
       "str"
      ]
     },
     "execution_count": 40,
     "metadata": {},
     "output_type": "execute_result"
    }
   ],
   "source": [
    "type(sqlite3.version)"
   ]
  },
  {
   "cell_type": "code",
   "execution_count": 41,
   "metadata": {},
   "outputs": [
    {
     "data": {
      "text/plain": [
       "tuple"
      ]
     },
     "execution_count": 41,
     "metadata": {},
     "output_type": "execute_result"
    }
   ],
   "source": [
    "type(sqlite3.version_info)"
   ]
  },
  {
   "cell_type": "code",
   "execution_count": 42,
   "metadata": {},
   "outputs": [
    {
     "data": {
      "text/plain": [
       "'3.20.1'"
      ]
     },
     "execution_count": 42,
     "metadata": {},
     "output_type": "execute_result"
    }
   ],
   "source": [
    "sqlite3.sqlite_version #package는 2.대"
   ]
  },
  {
   "cell_type": "code",
   "execution_count": 43,
   "metadata": {},
   "outputs": [],
   "source": [
    "conn = sqlite3.connect(':memory:')"
   ]
  },
  {
   "cell_type": "code",
   "execution_count": 44,
   "metadata": {},
   "outputs": [
    {
     "data": {
      "text/plain": [
       "<sqlite3.Connection at 0x10589bc70>"
      ]
     },
     "execution_count": 44,
     "metadata": {},
     "output_type": "execute_result"
    }
   ],
   "source": [
    "conn"
   ]
  },
  {
   "cell_type": "code",
   "execution_count": 45,
   "metadata": {},
   "outputs": [],
   "source": [
    "#cursor : 명령을 주고받는 역할\n",
    "cur = conn.cursor()"
   ]
  },
  {
   "cell_type": "code",
   "execution_count": 46,
   "metadata": {},
   "outputs": [
    {
     "data": {
      "text/plain": [
       "<sqlite3.Cursor at 0x106f219d0>"
      ]
     },
     "execution_count": 46,
     "metadata": {},
     "output_type": "execute_result"
    }
   ],
   "source": [
    "cur"
   ]
  },
  {
   "cell_type": "code",
   "execution_count": 47,
   "metadata": {
    "scrolled": true
   },
   "outputs": [
    {
     "data": {
      "text/plain": [
       "<sqlite3.Cursor at 0x106f219d0>"
      ]
     },
     "execution_count": 47,
     "metadata": {},
     "output_type": "execute_result"
    }
   ],
   "source": [
    "cur.execute('create table people (name_last, age)')"
   ]
  },
  {
   "cell_type": "code",
   "execution_count": 48,
   "metadata": {},
   "outputs": [],
   "source": [
    "who = 'Yelstin'\n",
    "age = 72"
   ]
  },
  {
   "cell_type": "code",
   "execution_count": 49,
   "metadata": {},
   "outputs": [
    {
     "data": {
      "text/plain": [
       "(72, 'Yelstin')"
      ]
     },
     "execution_count": 49,
     "metadata": {},
     "output_type": "execute_result"
    }
   ],
   "source": [
    "age, who"
   ]
  },
  {
   "cell_type": "code",
   "execution_count": 50,
   "metadata": {},
   "outputs": [
    {
     "data": {
      "text/plain": [
       "<sqlite3.Cursor at 0x106f219d0>"
      ]
     },
     "execution_count": 50,
     "metadata": {},
     "output_type": "execute_result"
    }
   ],
   "source": [
    "cur.execute('insert into people values(?,?)', (who,age))"
   ]
  },
  {
   "cell_type": "code",
   "execution_count": 51,
   "metadata": {},
   "outputs": [
    {
     "data": {
      "text/plain": [
       "<sqlite3.Cursor at 0x106f219d0>"
      ]
     },
     "execution_count": 51,
     "metadata": {},
     "output_type": "execute_result"
    }
   ],
   "source": [
    "cur.execute('select * from people where name_last=:who and age=:age',\n",
    "            {'who':who,'age':age})"
   ]
  },
  {
   "cell_type": "code",
   "execution_count": 52,
   "metadata": {},
   "outputs": [
    {
     "data": {
      "text/plain": [
       "('Yelstin', 72)"
      ]
     },
     "execution_count": 52,
     "metadata": {},
     "output_type": "execute_result"
    }
   ],
   "source": [
    "cur.fetchone()"
   ]
  },
  {
   "cell_type": "markdown",
   "metadata": {},
   "source": [
    "여러개 넣기"
   ]
  },
  {
   "cell_type": "code",
   "execution_count": 53,
   "metadata": {},
   "outputs": [],
   "source": [
    "sql = 'insert into people values(?, ?)'"
   ]
  },
  {
   "cell_type": "code",
   "execution_count": 54,
   "metadata": {},
   "outputs": [
    {
     "data": {
      "text/plain": [
       "'insert into people values(?, ?)'"
      ]
     },
     "execution_count": 54,
     "metadata": {},
     "output_type": "execute_result"
    }
   ],
   "source": [
    "sql"
   ]
  },
  {
   "cell_type": "code",
   "execution_count": 55,
   "metadata": {},
   "outputs": [],
   "source": [
    "data = [('1',1), ('2',2), ('3',3), ]"
   ]
  },
  {
   "cell_type": "code",
   "execution_count": 56,
   "metadata": {},
   "outputs": [
    {
     "data": {
      "text/plain": [
       "<sqlite3.Cursor at 0x106f219d0>"
      ]
     },
     "execution_count": 56,
     "metadata": {},
     "output_type": "execute_result"
    }
   ],
   "source": [
    "cur.executemany(sql, data)"
   ]
  },
  {
   "cell_type": "markdown",
   "metadata": {},
   "source": [
    "select문을 script에 쓰지 말것!"
   ]
  },
  {
   "cell_type": "code",
   "execution_count": 57,
   "metadata": {},
   "outputs": [
    {
     "data": {
      "text/plain": [
       "<sqlite3.Cursor at 0x106f219d0>"
      ]
     },
     "execution_count": 57,
     "metadata": {},
     "output_type": "execute_result"
    }
   ],
   "source": [
    "cur.executescript (\n",
    "\"\"\"\n",
    "    create table person ( \n",
    "        first_name text primary key,\n",
    "        last_name text not null\n",
    "        );\n",
    "    \n",
    "    insert into person values('name', 'kim')\n",
    "\"\"\"\n",
    ")"
   ]
  },
  {
   "cell_type": "code",
   "execution_count": 61,
   "metadata": {},
   "outputs": [
    {
     "data": {
      "text/plain": [
       "<sqlite3.Cursor at 0x106f219d0>"
      ]
     },
     "execution_count": 61,
     "metadata": {},
     "output_type": "execute_result"
    }
   ],
   "source": [
    "cur.execute('select * from people')"
   ]
  },
  {
   "cell_type": "code",
   "execution_count": 62,
   "metadata": {},
   "outputs": [
    {
     "data": {
      "text/plain": [
       "[('Yelstin', 72), ('1', 1), ('2', 2), ('3', 3)]"
      ]
     },
     "execution_count": 62,
     "metadata": {},
     "output_type": "execute_result"
    }
   ],
   "source": [
    "cur.fetchall()"
   ]
  },
  {
   "cell_type": "code",
   "execution_count": 63,
   "metadata": {},
   "outputs": [
    {
     "data": {
      "text/plain": [
       "<sqlite3.Cursor at 0x106f219d0>"
      ]
     },
     "execution_count": 63,
     "metadata": {},
     "output_type": "execute_result"
    }
   ],
   "source": [
    "cur.execute('select * from person')"
   ]
  },
  {
   "cell_type": "code",
   "execution_count": 64,
   "metadata": {},
   "outputs": [
    {
     "data": {
      "text/plain": [
       "[('name', 'kim')]"
      ]
     },
     "execution_count": 64,
     "metadata": {},
     "output_type": "execute_result"
    }
   ],
   "source": [
    "cur.fetchall()"
   ]
  },
  {
   "cell_type": "code",
   "execution_count": 65,
   "metadata": {},
   "outputs": [],
   "source": [
    "conn.close()"
   ]
  },
  {
   "cell_type": "code",
   "execution_count": 67,
   "metadata": {},
   "outputs": [],
   "source": [
    "conn = sqlite3.connect('test.db')\n",
    "print"
   ]
  },
  {
   "cell_type": "code",
   "execution_count": 83,
   "metadata": {},
   "outputs": [
    {
     "data": {
      "text/plain": [
       "<sqlite3.Cursor at 0x106f73490>"
      ]
     },
     "execution_count": 83,
     "metadata": {},
     "output_type": "execute_result"
    }
   ],
   "source": [
    "conn.execute( \n",
    "\"\"\"\n",
    "    create table company (\n",
    "        id int primary key not null,\n",
    "        name text not null,\n",
    "        age int not null,\n",
    "        address char(50),\n",
    "        salary real);\n",
    "\"\"\")"
   ]
  },
  {
   "cell_type": "code",
   "execution_count": 82,
   "metadata": {},
   "outputs": [
    {
     "data": {
      "text/plain": [
       "<sqlite3.Cursor at 0x106f73420>"
      ]
     },
     "execution_count": 82,
     "metadata": {},
     "output_type": "execute_result"
    }
   ],
   "source": [
    "conn.execute('drop table company')"
   ]
  },
  {
   "cell_type": "code",
   "execution_count": 84,
   "metadata": {},
   "outputs": [
    {
     "name": "stdout",
     "output_type": "stream",
     "text": [
      "Records created successfully\n"
     ]
    }
   ],
   "source": [
    "conn.execute (\"insert into company  (id, name, age, address, salary) \\\n",
    "              values (1,'paul', 32,'california', 20000.00)\");\n",
    "conn.execute (\"insert into company (id, name, age, address, salary) \\\n",
    "              values (:id, :name, :age, :address, :salary)\",\n",
    "              {'id':2, 'name':'allen', 'age':25, 'address':'Texas','salary':15000.00 })\n",
    "\n",
    "data = [(3, 'Teddy', 23, 'Norway', 20000.00),\n",
    "        (4, 'Mark', 25, 'Rich-Mond', 65000.00)]\n",
    "\n",
    "conn.executemany('insert into company (id, name, age, address, salary)\\\n",
    "                 values(?,?,?,?,?)', data);\n",
    "conn.executescript(\"\"\"\n",
    "    insert into company (id, name, age, address, salary)\n",
    "    values (5, 'Mark2', 25, 'Rich-Mond', 65000.00);\n",
    "    \n",
    "    insert into company (id, name, age, address, salary)\n",
    "    values (6, 'Mark2', 25, 'Rich-Mond', 65000.00)\n",
    "    \"\"\");\n",
    "conn.commit()\n",
    "print('Records created successfully')\n"
   ]
  },
  {
   "cell_type": "code",
   "execution_count": 92,
   "metadata": {},
   "outputs": [],
   "source": [
    "temp = conn.execute('select * from company')"
   ]
  },
  {
   "cell_type": "code",
   "execution_count": 93,
   "metadata": {},
   "outputs": [
    {
     "data": {
      "text/plain": [
       "sqlite3.Cursor"
      ]
     },
     "execution_count": 93,
     "metadata": {},
     "output_type": "execute_result"
    }
   ],
   "source": [
    "type(temp)"
   ]
  },
  {
   "cell_type": "code",
   "execution_count": 94,
   "metadata": {
    "scrolled": true
   },
   "outputs": [
    {
     "name": "stdout",
     "output_type": "stream",
     "text": [
      "<class 'tuple'> (1, 'paul', 32, 'california', 20000.0)\n",
      "<class 'tuple'> (2, 'allen', 25, 'Texas', 15000.0)\n",
      "<class 'tuple'> (3, 'Teddy', 23, 'Norway', 20000.0)\n",
      "<class 'tuple'> (4, 'Mark', 25, 'Rich-Mond', 65000.0)\n",
      "<class 'tuple'> (5, 'Mark2', 25, 'Rich-Mond', 65000.0)\n",
      "<class 'tuple'> (6, 'Mark2', 25, 'Rich-Mond', 65000.0)\n"
     ]
    }
   ],
   "source": [
    "for row in temp:\n",
    "    print(type(row),row)"
   ]
  },
  {
   "cell_type": "code",
   "execution_count": 96,
   "metadata": {},
   "outputs": [
    {
     "data": {
      "text/plain": [
       "<sqlite3.Cursor at 0x106f21ce0>"
      ]
     },
     "execution_count": 96,
     "metadata": {},
     "output_type": "execute_result"
    }
   ],
   "source": [
    "cid = 1\n",
    "conn.execute('update company set salary = 25000.00 \\\n",
    "              where id =:id', {\"id\":cid})"
   ]
  },
  {
   "cell_type": "code",
   "execution_count": 97,
   "metadata": {},
   "outputs": [],
   "source": [
    "conn.commit() #db에 반영, 값이 바뀜"
   ]
  },
  {
   "cell_type": "code",
   "execution_count": 98,
   "metadata": {
    "scrolled": true
   },
   "outputs": [
    {
     "name": "stdout",
     "output_type": "stream",
     "text": [
      "id =  1\n",
      "name =  paul\n",
      "address =  california\n",
      "salary =  25000.0\n",
      "\n",
      "id =  2\n",
      "name =  allen\n",
      "address =  Texas\n",
      "salary =  15000.0\n",
      "\n",
      "id =  3\n",
      "name =  Teddy\n",
      "address =  Norway\n",
      "salary =  20000.0\n",
      "\n",
      "id =  4\n",
      "name =  Mark\n",
      "address =  Rich-Mond\n",
      "salary =  65000.0\n",
      "\n",
      "id =  5\n",
      "name =  Mark2\n",
      "address =  Rich-Mond\n",
      "salary =  65000.0\n",
      "\n",
      "id =  6\n",
      "name =  Mark2\n",
      "address =  Rich-Mond\n",
      "salary =  65000.0\n",
      "\n",
      "operation done\n"
     ]
    }
   ],
   "source": [
    "cursor = conn.execute('select id, name, address, salary from company')\n",
    "for row in cursor:\n",
    "    print('id = ', row[0])\n",
    "    print('name = ', row[1])\n",
    "    print('address = ', row[2])\n",
    "    print('salary = ', row[3], end='\\n\\n')\n",
    "print('operation done')"
   ]
  },
  {
   "cell_type": "code",
   "execution_count": 99,
   "metadata": {},
   "outputs": [
    {
     "data": {
      "text/plain": [
       "<sqlite3.Cursor at 0x106f73730>"
      ]
     },
     "execution_count": 99,
     "metadata": {},
     "output_type": "execute_result"
    }
   ],
   "source": [
    "conn.execute('delete from company where id = 2;')"
   ]
  },
  {
   "cell_type": "code",
   "execution_count": 100,
   "metadata": {},
   "outputs": [],
   "source": [
    "conn.commit() #allan 제거됨"
   ]
  },
  {
   "cell_type": "code",
   "execution_count": 102,
   "metadata": {},
   "outputs": [
    {
     "name": "stdout",
     "output_type": "stream",
     "text": [
      "sqlite version:  ('3.20.1',)\n"
     ]
    }
   ],
   "source": [
    "import sqlite3 as sql\n",
    "con = None\n",
    "try:\n",
    "    con = sql.connect('text.db')\n",
    "    cur = con.cursor()\n",
    "    cur.execute('select sqlite_version()')\n",
    "    data = cur.fetchone()\n",
    "    print('sqlite version: ', data)\n",
    "except Exception as e:\n",
    "    print('Error: ', e)\n",
    "\n",
    "finally:\n",
    "    if con :\n",
    "        con.close()"
   ]
  },
  {
   "cell_type": "code",
   "execution_count": null,
   "metadata": {},
   "outputs": [],
   "source": [
    "#93\n",
    "con = sql.connect('test.db')\n",
    "\n",
    "with con :\n",
    "    cur = con.cursor()\n",
    "    cur.execute('create table')"
   ]
  }
 ],
 "metadata": {
  "kernelspec": {
   "display_name": "Python 3",
   "language": "python",
   "name": "python3"
  },
  "language_info": {
   "codemirror_mode": {
    "name": "ipython",
    "version": 3
   },
   "file_extension": ".py",
   "mimetype": "text/x-python",
   "name": "python",
   "nbconvert_exporter": "python",
   "pygments_lexer": "ipython3",
   "version": "3.6.3"
  }
 },
 "nbformat": 4,
 "nbformat_minor": 2
}
